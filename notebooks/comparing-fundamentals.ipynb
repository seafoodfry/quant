{
 "cells": [
  {
   "cell_type": "code",
   "execution_count": 1,
   "id": "898cb3a7-c73a-4cf9-b6d8-b2472982bd3a",
   "metadata": {},
   "outputs": [],
   "source": [
    "import matplotlib.pyplot as plt\n",
    "\n",
    "from dataclasses import dataclass"
   ]
  },
  {
   "cell_type": "code",
   "execution_count": 2,
   "id": "e8bca445-37de-4bbc-93f8-c4757c5b8c73",
   "metadata": {},
   "outputs": [],
   "source": [
    "@dataclass\n",
    "class Assets:\n",
    "    # Cash and cash equivalents\n",
    "    cash: int\n",
    "    # Short-term investments\n",
    "    short: int\n",
    "    # Accounts receivable, net\n",
    "    receivables: int\n",
    "    # Other current receivables, net..\n",
    "    other_receivables: int\n",
    "    # Prepaid expenses and other current assets\n",
    "    prepaid: int\n",
    "\n",
    "    def total(self):\n",
    "        return self.cash + self.short + self.receivables + self.other_receivables + self.prepaid"
   ]
  },
  {
   "cell_type": "markdown",
   "id": "211122a2-05af-4145-99f8-fc0a1ca4c489",
   "metadata": {},
   "source": [
    "# UNH"
   ]
  },
  {
   "cell_type": "code",
   "execution_count": 3,
   "id": "046027a9-2c59-4788-8fdd-8963a1313019",
   "metadata": {},
   "outputs": [],
   "source": [
    "unh_25q2 = Assets(\n",
    "    cash = 28_596,\n",
    "    short = 3_424,\n",
    "    receivables = 24_142,\n",
    "    other_receivables = 28_582,\n",
    "    prepaid = 8_955\n",
    ")\n",
    "\n",
    "unh_24q4 = Assets(\n",
    "    cash = 25_312,\n",
    "    short = 3_801,\n",
    "    receivables = 22_365,\n",
    "    other_receivables = 26_089,\n",
    "    prepaid = 8_212\n",
    ")"
   ]
  },
  {
   "cell_type": "code",
   "execution_count": 4,
   "id": "f8d6155a-4d80-4784-9de0-56cb13e66086",
   "metadata": {},
   "outputs": [],
   "source": [
    "# Calculate proportions for each quarter\n",
    "def get_proportions(assets):\n",
    "    total = assets.total()\n",
    "    return {\n",
    "        'Cash': (assets.cash + assets.short) / total,\n",
    "        'Receivables': (assets.receivables + assets.receivables ) / total,\n",
    "        'Prepaid': assets.prepaid / total\n",
    "    }\n",
    "\n",
    "def plot_asset_composition_comp(assets_new, assets_old, label_new='2025 Q2', label_old='2024 Q4'):\n",
    "    props_new = get_proportions(assets_new)\n",
    "    props_old = get_proportions(assets_old)\n",
    "    \n",
    "    categories = list(props_new.keys())\n",
    "    new_values = list(props_new.values())\n",
    "    old_values = list(props_old.values())\n",
    "    \n",
    "    x = range(len(categories))\n",
    "    width = 0.35\n",
    "    \n",
    "    fig, ax = plt.subplots()\n",
    "    ax.bar([i - width/2 for i in x], new_values, width, label=label_new)\n",
    "    ax.bar([i + width/2 for i in x], old_values, width, label=label_old)\n",
    "    \n",
    "    ax.set_ylabel('Proportion of Total Assets')\n",
    "    ax.set_title('Asset Composition Comparison')\n",
    "    ax.set_xticks(x)\n",
    "    ax.set_xticklabels(categories)\n",
    "    ax.legend()\n",
    "    ax.yaxis.set_major_formatter(plt.FuncFormatter(lambda y, _: '{:.1%}'.format(y)))\n",
    "    \n",
    "    plt.tight_layout()\n",
    "    plt.show()\n",
    "    \n",
    "    print(f'{label_new}: {new_values=}')\n",
    "    print(f'{label_old}: {old_values=}')"
   ]
  },
  {
   "cell_type": "code",
   "execution_count": 5,
   "id": "0e580dd0-69e0-42b5-8c3c-2b7d498167e6",
   "metadata": {},
   "outputs": [
    {
     "data": {
      "image/png": "[encoded data removed]",
      "text/plain": [
       "<Figure size 640x480 with 1 Axes>"
      ]
     },
     "metadata": {},
     "output_type": "display_data"
    },
    {
     "name": "stdout",
     "output_type": "stream",
     "text": [
      "2025 Q2: new_values=[0.34173256918430295, 0.5153096617893468, 0.09557199116319277]\n",
      "2024 Q4: old_values=[0.3393954231222094, 0.5214563004931276, 0.0957343872043274]\n"
     ]
    }
   ],
   "source": [
    "plot_asset_composition_comp(unh_25q2, unh_24q4, label_new='2025 Q2', label_old='2024 Q4')"
   ]
  },
  {
   "cell_type": "code",
   "execution_count": null,
   "id": "4f5e84de-b4f5-4512-9ff9-0bba365b481f",
   "metadata": {},
   "outputs": [],
   "source": []
  }
 ],
 "metadata": {
  "kernelspec": {
   "display_name": "Python 3 (ipykernel)",
   "language": "python",
   "name": "python3"
  },
  "language_info": {
   "codemirror_mode": {
    "name": "ipython",
    "version": 3
   },
   "file_extension": ".py",
   "mimetype": "text/x-python",
   "name": "python",
   "nbconvert_exporter": "python",
   "pygments_lexer": "ipython3",
   "version": "3.13.1"
  }
 },
 "nbformat": 4,
 "nbformat_minor": 5
}
